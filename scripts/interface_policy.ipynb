{
 "cells": [
  {
   "cell_type": "markdown",
   "metadata": {},
   "source": [
    "# Part II: Analyzing energy policy options in Central Asia\n",
    "\n",
    "This tutorial is designed to show how one can use the open MESSAGEix energy-water model of Central Asia (MESSAGEix-CAS) for analyzing different policy options. This tutorial includes instructions for:\n",
    "- loading the MESSAGEix-CAS Baseline scenario and cloning it\n",
    "- changing/editing the input data, and saving the changes\n",
    "- adding renewable energy policies, such as subsidies and share constraints\n",
    "- adding emission targets\n",
    "- postprocessing and visualization of some output results\n",
    "\n",
    "<img src='_static/re.jpg' style=\"width: 600px;\"/>\n",
    "\n",
    "Source of images Dreamstime, designed by Adam Islaam."
   ]
  },
  {
   "cell_type": "markdown",
   "metadata": {},
   "source": [
    "## 1. Importing software packages and loading Baseline\n",
    "\n",
    "For running this tutorial, you need to have:\n",
    "- The `message_ix` modeling framework installed sucessfully with a version >= 3.4.0 (see instructions [here](https://docs.messageix.org/en/stable/#getting-started) ).\n",
    "- Updated your code by pulling modifications done for this study from [this fork](https://github.com/behnam-zakeri/message_ix/tree/central-asia-paper).\n",
    "\n",
    "*Notice*: If you have installed `message_ix` using Anaconda/miniconda, and you are a proficient user of `git` to pull the changes from the abovementioned fork automatically, you can update your code manually. For doing so, you need to copy the following folder and file from the fork and replace the ones on your machine:\n",
    "- `message_ix/model/MESSAGE` [folder](https://github.com/behnam-zakeri/message_ix/tree/central-asia-paper/message_ix/model/MESSAGE), and\n",
    "- `message_ix/models.py` [file](https://github.com/behnam-zakeri/message_ix/tree/central-asia-paper/message_ix/models.py)."
   ]
  },
  {
   "cell_type": "code",
   "execution_count": 1,
   "metadata": {},
   "outputs": [
    {
     "name": "stderr",
     "output_type": "stream",
     "text": []
    },
    {
     "data": {
      "application/javascript": [
       "IPython.OutputArea.prototype._should_scroll = function(lines) { return false; }"
      ],
      "text/plain": [
       "<IPython.core.display.Javascript object>"
      ]
     },
     "metadata": {},
     "output_type": "display_data"
    }
   ],
   "source": [
    "# Importing required software packages\n",
    "import pandas as pd\n",
    "import os\n",
    "import ixmp\n",
    "import message_ix\n",
    "from postprocessor import monthly_plot, yearly_plot, cost_emission_plot, compare_three_scenario\n",
    "from utilities import add_share_activity"
   ]
  },
  {
   "cell_type": "code",
   "execution_count": 2,
   "metadata": {},
   "outputs": [],
   "source": [
    "# Getting path to this project on your machine\n",
    "path = os.path.dirname(os.path.realpath(\"__file__\")).strip(\"\\scripts\")"
   ]
  },
  {
   "cell_type": "code",
   "execution_count": 3,
   "metadata": {},
   "outputs": [],
   "source": [
    "# Loading modeling platform (this will link you to your database)\n",
    "mp = ixmp.Platform()"
   ]
  },
  {
   "cell_type": "code",
   "execution_count": 4,
   "metadata": {},
   "outputs": [
    {
     "name": "stderr",
     "output_type": "stream",
     "text": [
      "Existing index sets of 'map_tec_storage' ['node', 'technology', 'mode', 'storage_tec', 'mode', 'level', 'commodity', 'lvl_temporal'] do not match ['node', 'technology', 'mode', 'technology', 'mode', 'level', 'commodity', 'lvl_temporal']\n",
      "Existing index sets of 'STORAGE' ['node', 'technology', 'level', 'commodity', 'year', 'time'] do not match ('node', 'technology', 'mode', 'level', 'commodity', 'year', 'time')\n"
     ]
    },
    {
     "data": {
      "text/plain": [
       "17"
      ]
     },
     "execution_count": 4,
     "metadata": {},
     "output_type": "execute_result"
    }
   ],
   "source": [
    "# Loading an existing scenario with desired model/scenario names\n",
    "model = 'MESSAGEix-CAS'\n",
    "scenario = 'baseline'\n",
    "base = message_ix.Scenario(mp, model, scenario)\n",
    "base.version"
   ]
  },
  {
   "cell_type": "markdown",
   "metadata": {},
   "source": [
    "### 1.1. Loading input data\n",
    "You can load parameters by their name and investigate them. The output will be a python dataframe, which looks like a stacked table. Also, we can load a portion of a parameter data, i.e., by slicing the table. See the examples below:"
   ]
  },
  {
   "cell_type": "code",
   "execution_count": 5,
   "metadata": {},
   "outputs": [
    {
     "data": {
      "text/html": [
       "<div>\n",
       "<style scoped>\n",
       "    .dataframe tbody tr th:only-of-type {\n",
       "        vertical-align: middle;\n",
       "    }\n",
       "\n",
       "    .dataframe tbody tr th {\n",
       "        vertical-align: top;\n",
       "    }\n",
       "\n",
       "    .dataframe thead th {\n",
       "        text-align: right;\n",
       "    }\n",
       "</style>\n",
       "<table border=\"1\" class=\"dataframe\">\n",
       "  <thead>\n",
       "    <tr style=\"text-align: right;\">\n",
       "      <th></th>\n",
       "      <th>node_loc</th>\n",
       "      <th>technology</th>\n",
       "      <th>year_vtg</th>\n",
       "      <th>value</th>\n",
       "      <th>unit</th>\n",
       "    </tr>\n",
       "  </thead>\n",
       "  <tbody>\n",
       "    <tr>\n",
       "      <th>0</th>\n",
       "      <td>UZB</td>\n",
       "      <td>coal_ppl</td>\n",
       "      <td>1995</td>\n",
       "      <td>1795.3750</td>\n",
       "      <td>USD/kW</td>\n",
       "    </tr>\n",
       "    <tr>\n",
       "      <th>1</th>\n",
       "      <td>UZB</td>\n",
       "      <td>coal_ppl</td>\n",
       "      <td>2000</td>\n",
       "      <td>1795.3750</td>\n",
       "      <td>USD/kW</td>\n",
       "    </tr>\n",
       "    <tr>\n",
       "      <th>2</th>\n",
       "      <td>UZB</td>\n",
       "      <td>coal_ppl</td>\n",
       "      <td>2005</td>\n",
       "      <td>1719.8500</td>\n",
       "      <td>USD/kW</td>\n",
       "    </tr>\n",
       "    <tr>\n",
       "      <th>3</th>\n",
       "      <td>UZB</td>\n",
       "      <td>coal_ppl</td>\n",
       "      <td>2010</td>\n",
       "      <td>1608.5500</td>\n",
       "      <td>USD/kW</td>\n",
       "    </tr>\n",
       "    <tr>\n",
       "      <th>4</th>\n",
       "      <td>UZB</td>\n",
       "      <td>coal_ppl</td>\n",
       "      <td>2020</td>\n",
       "      <td>1540.9750</td>\n",
       "      <td>USD/kW</td>\n",
       "    </tr>\n",
       "    <tr>\n",
       "      <th>5</th>\n",
       "      <td>UZB</td>\n",
       "      <td>coal_ppl</td>\n",
       "      <td>2030</td>\n",
       "      <td>1507.8500</td>\n",
       "      <td>USD/kW</td>\n",
       "    </tr>\n",
       "    <tr>\n",
       "      <th>6</th>\n",
       "      <td>UZB</td>\n",
       "      <td>coal_ppl</td>\n",
       "      <td>2040</td>\n",
       "      <td>1501.2250</td>\n",
       "      <td>USD/kW</td>\n",
       "    </tr>\n",
       "    <tr>\n",
       "      <th>7</th>\n",
       "      <td>UZB</td>\n",
       "      <td>coal_ppl</td>\n",
       "      <td>2050</td>\n",
       "      <td>1514.4750</td>\n",
       "      <td>USD/kW</td>\n",
       "    </tr>\n",
       "    <tr>\n",
       "      <th>8</th>\n",
       "      <td>UZB</td>\n",
       "      <td>coal_ppl</td>\n",
       "      <td>2060</td>\n",
       "      <td>1537.0000</td>\n",
       "      <td>USD/kW</td>\n",
       "    </tr>\n",
       "    <tr>\n",
       "      <th>9</th>\n",
       "      <td>UZB</td>\n",
       "      <td>coal_ppl</td>\n",
       "      <td>2015</td>\n",
       "      <td>1574.7625</td>\n",
       "      <td>USD/kW</td>\n",
       "    </tr>\n",
       "    <tr>\n",
       "      <th>10</th>\n",
       "      <td>UZB</td>\n",
       "      <td>coal_ppl</td>\n",
       "      <td>2025</td>\n",
       "      <td>1524.4125</td>\n",
       "      <td>USD/kW</td>\n",
       "    </tr>\n",
       "    <tr>\n",
       "      <th>11</th>\n",
       "      <td>UZB</td>\n",
       "      <td>coal_ppl</td>\n",
       "      <td>2035</td>\n",
       "      <td>1504.5375</td>\n",
       "      <td>USD/kW</td>\n",
       "    </tr>\n",
       "    <tr>\n",
       "      <th>12</th>\n",
       "      <td>UZB</td>\n",
       "      <td>coal_ppl</td>\n",
       "      <td>2045</td>\n",
       "      <td>1507.8500</td>\n",
       "      <td>USD/kW</td>\n",
       "    </tr>\n",
       "    <tr>\n",
       "      <th>13</th>\n",
       "      <td>UZB</td>\n",
       "      <td>coal_ppl</td>\n",
       "      <td>2055</td>\n",
       "      <td>1525.7375</td>\n",
       "      <td>USD/kW</td>\n",
       "    </tr>\n",
       "  </tbody>\n",
       "</table>\n",
       "</div>"
      ],
      "text/plain": [
       "   node_loc technology  year_vtg      value    unit\n",
       "0       UZB   coal_ppl      1995  1795.3750  USD/kW\n",
       "1       UZB   coal_ppl      2000  1795.3750  USD/kW\n",
       "2       UZB   coal_ppl      2005  1719.8500  USD/kW\n",
       "3       UZB   coal_ppl      2010  1608.5500  USD/kW\n",
       "4       UZB   coal_ppl      2020  1540.9750  USD/kW\n",
       "5       UZB   coal_ppl      2030  1507.8500  USD/kW\n",
       "6       UZB   coal_ppl      2040  1501.2250  USD/kW\n",
       "7       UZB   coal_ppl      2050  1514.4750  USD/kW\n",
       "8       UZB   coal_ppl      2060  1537.0000  USD/kW\n",
       "9       UZB   coal_ppl      2015  1574.7625  USD/kW\n",
       "10      UZB   coal_ppl      2025  1524.4125  USD/kW\n",
       "11      UZB   coal_ppl      2035  1504.5375  USD/kW\n",
       "12      UZB   coal_ppl      2045  1507.8500  USD/kW\n",
       "13      UZB   coal_ppl      2055  1525.7375  USD/kW"
      ]
     },
     "execution_count": 5,
     "metadata": {},
     "output_type": "execute_result"
    }
   ],
   "source": [
    "# Loading data of a parameter, by filtering a portion of the table\n",
    "parname = 'inv_cost'   # CAPEX\n",
    "tec = 'coal_ppl'       # coal power plant\n",
    "node = 'UZB'           # Uzbekistan\n",
    "\n",
    "# Notice the syntax for filtering\n",
    "table = base.par(parname, {'technology': tec, 'node_loc':node})\n",
    "# see the table and column names\n",
    "table"
   ]
  },
  {
   "cell_type": "code",
   "execution_count": 6,
   "metadata": {},
   "outputs": [
    {
     "data": {
      "text/plain": [
       "['node_loc', 'technology', 'year_vtg']"
      ]
     },
     "execution_count": 6,
     "metadata": {},
     "output_type": "execute_result"
    }
   ],
   "source": [
    "# If you don't know the index names related to the parameter (i.e., column names of the table), you can see them by:\n",
    "base.idx_names('inv_cost')"
   ]
  },
  {
   "cell_type": "markdown",
   "metadata": {},
   "source": [
    "### Info (1): units in the MESSAGEix-CAS model\n",
    "As you saw in the example above, \"unit\" is not listed as an index. In the MESSAGEix formulation, \"unit\" is defined by the user just for information, and it does NOT affect the calculations. In other words, MESSAGEix does not check the units, nor convert them. Hence, this is the user that should be careful when defining parameters and adding \"value\" to the parameters to ensure consistency and accuracy of the units. In the MESSAGEix-CAS model, the units are as follows:\n",
    "- unit of capacity: GW\n",
    "- unit of activity: GWa (gigawatts-year) (1 GWa = 8.76 TWh)\n",
    "- unit of investment cost: \\\\$/kW (= M\\\\$/GW)\n",
    "- unit of variable cost: \\\\$/kWa (= M\\\\$/GWa)\n",
    "- unit of water flow: 1000 m3/s (thousand cubic meter per second)\n",
    "- unit of CO2 emission: Mt of Ceq\n",
    "- unit of other emissions: kt"
   ]
  },
  {
   "cell_type": "markdown",
   "metadata": {},
   "source": [
    "## 2. Editing a scenario\n",
    "We can edit the input data of a scenario, e.g., by changing the value of cost or efficiency etc. For doing this, please make sure that you have created a clone of a scenario, which we did in Part (1), so that your edits won't affect other people using the original scenario.\n",
    "\n",
    "### Notice (1): Cloning a scenario\n",
    "For working on a scenario, one can clone that scenario. Cloning is similar to \"save-as\" in working with binary files like Excel. When you clone a scenario, you are sure that the original scenario remains unchanged, e.g., if we do something that the cloned scenario gets corrupted."
   ]
  },
  {
   "cell_type": "code",
   "execution_count": 7,
   "metadata": {},
   "outputs": [
    {
     "name": "stderr",
     "output_type": "stream",
     "text": [
      "Existing index sets of 'map_tec_storage' ['node', 'technology', 'mode', 'storage_tec', 'mode', 'level', 'commodity', 'lvl_temporal'] do not match ['node', 'technology', 'mode', 'technology', 'mode', 'level', 'commodity', 'lvl_temporal']\n",
      "Existing index sets of 'STORAGE' ['node', 'technology', 'level', 'commodity', 'year', 'time'] do not match ('node', 'technology', 'mode', 'level', 'commodity', 'year', 'time')\n"
     ]
    }
   ],
   "source": [
    "# Cloning the baseline scenario (i.e., making a new version of it for our work)\n",
    "scen = base.clone(scenario='subsidy', keep_solution=False)"
   ]
  },
  {
   "cell_type": "markdown",
   "metadata": {},
   "source": [
    "### Notice (2): checking out a scenario\n",
    "For editing a scenario, you need to make sure that:\n",
    "- the scenario doesn't have a solution\n",
    "- the scenario is \"checked out\"\n",
    "\n",
    "Checking out the scenario means that we allow the scenario to be edited. Because more than one user may be working on the same scenario, checking out the scenario makes sure two persons won't edit the same scenario at the same time. Hence, if you check out the scenario, it will be locked for other users connected in the same database. Also, the scenario will be locked for yourself if you try to reopen it in another jupyter notebook, or python or R session. So, when you are done with your edits, please remember to save the changes by committing, so that the scenario will be freed for you and others for further edits. We will show these steps below."
   ]
  },
  {
   "cell_type": "code",
   "execution_count": 8,
   "metadata": {},
   "outputs": [],
   "source": [
    "# Checking out the scenario (= opening the scenario for editing, which locks the scenario)\n",
    "scen.check_out()"
   ]
  },
  {
   "cell_type": "markdown",
   "metadata": {},
   "source": [
    "### 2.1. Adding investment subsidies for solar PV\n",
    "Subsidies can be represented as reduction in the investment cost. The related parameter in MESSAGEix is \"inv_cost\". We chose solar PV for this example, but you can think of any other parameter and technologies. We represent a subsidy for reducing the investment cost by 40%."
   ]
  },
  {
   "cell_type": "code",
   "execution_count": 9,
   "metadata": {},
   "outputs": [
    {
     "data": {
      "text/html": [
       "<div>\n",
       "<style scoped>\n",
       "    .dataframe tbody tr th:only-of-type {\n",
       "        vertical-align: middle;\n",
       "    }\n",
       "\n",
       "    .dataframe tbody tr th {\n",
       "        vertical-align: top;\n",
       "    }\n",
       "\n",
       "    .dataframe thead th {\n",
       "        text-align: right;\n",
       "    }\n",
       "</style>\n",
       "<table border=\"1\" class=\"dataframe\">\n",
       "  <thead>\n",
       "    <tr style=\"text-align: right;\">\n",
       "      <th></th>\n",
       "      <th>node_loc</th>\n",
       "      <th>technology</th>\n",
       "      <th>year_vtg</th>\n",
       "      <th>value</th>\n",
       "      <th>unit</th>\n",
       "    </tr>\n",
       "  </thead>\n",
       "  <tbody>\n",
       "    <tr>\n",
       "      <th>0</th>\n",
       "      <td>UZB</td>\n",
       "      <td>solar_pv_ppl</td>\n",
       "      <td>1995</td>\n",
       "      <td>2459.358864</td>\n",
       "      <td>USD/kW</td>\n",
       "    </tr>\n",
       "    <tr>\n",
       "      <th>1</th>\n",
       "      <td>UZB</td>\n",
       "      <td>solar_pv_ppl</td>\n",
       "      <td>2000</td>\n",
       "      <td>2459.358864</td>\n",
       "      <td>USD/kW</td>\n",
       "    </tr>\n",
       "    <tr>\n",
       "      <th>2</th>\n",
       "      <td>UZB</td>\n",
       "      <td>solar_pv_ppl</td>\n",
       "      <td>2005</td>\n",
       "      <td>2107.465455</td>\n",
       "      <td>USD/kW</td>\n",
       "    </tr>\n",
       "    <tr>\n",
       "      <th>3</th>\n",
       "      <td>UZB</td>\n",
       "      <td>solar_pv_ppl</td>\n",
       "      <td>2010</td>\n",
       "      <td>1547.162727</td>\n",
       "      <td>USD/kW</td>\n",
       "    </tr>\n",
       "    <tr>\n",
       "      <th>4</th>\n",
       "      <td>UZB</td>\n",
       "      <td>solar_pv_ppl</td>\n",
       "      <td>2020</td>\n",
       "      <td>1151.769432</td>\n",
       "      <td>USD/kW</td>\n",
       "    </tr>\n",
       "    <tr>\n",
       "      <th>5</th>\n",
       "      <td>UZB</td>\n",
       "      <td>solar_pv_ppl</td>\n",
       "      <td>2030</td>\n",
       "      <td>893.368011</td>\n",
       "      <td>USD/kW</td>\n",
       "    </tr>\n",
       "    <tr>\n",
       "      <th>6</th>\n",
       "      <td>UZB</td>\n",
       "      <td>solar_pv_ppl</td>\n",
       "      <td>2040</td>\n",
       "      <td>743.391250</td>\n",
       "      <td>USD/kW</td>\n",
       "    </tr>\n",
       "    <tr>\n",
       "      <th>7</th>\n",
       "      <td>UZB</td>\n",
       "      <td>solar_pv_ppl</td>\n",
       "      <td>2050</td>\n",
       "      <td>674.570739</td>\n",
       "      <td>USD/kW</td>\n",
       "    </tr>\n",
       "    <tr>\n",
       "      <th>8</th>\n",
       "      <td>UZB</td>\n",
       "      <td>solar_pv_ppl</td>\n",
       "      <td>2060</td>\n",
       "      <td>658.339489</td>\n",
       "      <td>USD/kW</td>\n",
       "    </tr>\n",
       "    <tr>\n",
       "      <th>9</th>\n",
       "      <td>UZB</td>\n",
       "      <td>solar_pv_ppl</td>\n",
       "      <td>2015</td>\n",
       "      <td>1349.466080</td>\n",
       "      <td>USD/kW</td>\n",
       "    </tr>\n",
       "    <tr>\n",
       "      <th>10</th>\n",
       "      <td>UZB</td>\n",
       "      <td>solar_pv_ppl</td>\n",
       "      <td>2025</td>\n",
       "      <td>1022.568750</td>\n",
       "      <td>USD/kW</td>\n",
       "    </tr>\n",
       "    <tr>\n",
       "      <th>11</th>\n",
       "      <td>UZB</td>\n",
       "      <td>solar_pv_ppl</td>\n",
       "      <td>2035</td>\n",
       "      <td>818.379602</td>\n",
       "      <td>USD/kW</td>\n",
       "    </tr>\n",
       "    <tr>\n",
       "      <th>12</th>\n",
       "      <td>UZB</td>\n",
       "      <td>solar_pv_ppl</td>\n",
       "      <td>2045</td>\n",
       "      <td>708.980966</td>\n",
       "      <td>USD/kW</td>\n",
       "    </tr>\n",
       "    <tr>\n",
       "      <th>13</th>\n",
       "      <td>UZB</td>\n",
       "      <td>solar_pv_ppl</td>\n",
       "      <td>2055</td>\n",
       "      <td>666.455114</td>\n",
       "      <td>USD/kW</td>\n",
       "    </tr>\n",
       "  </tbody>\n",
       "</table>\n",
       "</div>"
      ],
      "text/plain": [
       "   node_loc    technology  year_vtg        value    unit\n",
       "0       UZB  solar_pv_ppl      1995  2459.358864  USD/kW\n",
       "1       UZB  solar_pv_ppl      2000  2459.358864  USD/kW\n",
       "2       UZB  solar_pv_ppl      2005  2107.465455  USD/kW\n",
       "3       UZB  solar_pv_ppl      2010  1547.162727  USD/kW\n",
       "4       UZB  solar_pv_ppl      2020  1151.769432  USD/kW\n",
       "5       UZB  solar_pv_ppl      2030   893.368011  USD/kW\n",
       "6       UZB  solar_pv_ppl      2040   743.391250  USD/kW\n",
       "7       UZB  solar_pv_ppl      2050   674.570739  USD/kW\n",
       "8       UZB  solar_pv_ppl      2060   658.339489  USD/kW\n",
       "9       UZB  solar_pv_ppl      2015  1349.466080  USD/kW\n",
       "10      UZB  solar_pv_ppl      2025  1022.568750  USD/kW\n",
       "11      UZB  solar_pv_ppl      2035   818.379602  USD/kW\n",
       "12      UZB  solar_pv_ppl      2045   708.980966  USD/kW\n",
       "13      UZB  solar_pv_ppl      2055   666.455114  USD/kW"
      ]
     },
     "execution_count": 9,
     "metadata": {},
     "output_type": "execute_result"
    }
   ],
   "source": [
    "# Loading investment cost of a technology\n",
    "tec = 'solar_pv_ppl'\n",
    "node = 'UZB'\n",
    "table = scen.par('inv_cost', {'technology': tec, 'node_loc': node})\n",
    "# see the table\n",
    "table"
   ]
  },
  {
   "cell_type": "code",
   "execution_count": 10,
   "metadata": {},
   "outputs": [
    {
     "data": {
      "text/html": [
       "<div>\n",
       "<style scoped>\n",
       "    .dataframe tbody tr th:only-of-type {\n",
       "        vertical-align: middle;\n",
       "    }\n",
       "\n",
       "    .dataframe tbody tr th {\n",
       "        vertical-align: top;\n",
       "    }\n",
       "\n",
       "    .dataframe thead th {\n",
       "        text-align: right;\n",
       "    }\n",
       "</style>\n",
       "<table border=\"1\" class=\"dataframe\">\n",
       "  <thead>\n",
       "    <tr style=\"text-align: right;\">\n",
       "      <th></th>\n",
       "      <th>node_loc</th>\n",
       "      <th>technology</th>\n",
       "      <th>year_vtg</th>\n",
       "      <th>value</th>\n",
       "      <th>unit</th>\n",
       "    </tr>\n",
       "  </thead>\n",
       "  <tbody>\n",
       "    <tr>\n",
       "      <th>0</th>\n",
       "      <td>UZB</td>\n",
       "      <td>solar_pv_ppl</td>\n",
       "      <td>1995</td>\n",
       "      <td>2459.358864</td>\n",
       "      <td>USD/kW</td>\n",
       "    </tr>\n",
       "    <tr>\n",
       "      <th>1</th>\n",
       "      <td>UZB</td>\n",
       "      <td>solar_pv_ppl</td>\n",
       "      <td>2000</td>\n",
       "      <td>2459.358864</td>\n",
       "      <td>USD/kW</td>\n",
       "    </tr>\n",
       "    <tr>\n",
       "      <th>2</th>\n",
       "      <td>UZB</td>\n",
       "      <td>solar_pv_ppl</td>\n",
       "      <td>2005</td>\n",
       "      <td>2107.465455</td>\n",
       "      <td>USD/kW</td>\n",
       "    </tr>\n",
       "    <tr>\n",
       "      <th>3</th>\n",
       "      <td>UZB</td>\n",
       "      <td>solar_pv_ppl</td>\n",
       "      <td>2010</td>\n",
       "      <td>1547.162727</td>\n",
       "      <td>USD/kW</td>\n",
       "    </tr>\n",
       "    <tr>\n",
       "      <th>4</th>\n",
       "      <td>UZB</td>\n",
       "      <td>solar_pv_ppl</td>\n",
       "      <td>2020</td>\n",
       "      <td>1151.769432</td>\n",
       "      <td>USD/kW</td>\n",
       "    </tr>\n",
       "    <tr>\n",
       "      <th>5</th>\n",
       "      <td>UZB</td>\n",
       "      <td>solar_pv_ppl</td>\n",
       "      <td>2030</td>\n",
       "      <td>536.020807</td>\n",
       "      <td>USD/kW</td>\n",
       "    </tr>\n",
       "    <tr>\n",
       "      <th>6</th>\n",
       "      <td>UZB</td>\n",
       "      <td>solar_pv_ppl</td>\n",
       "      <td>2040</td>\n",
       "      <td>446.034750</td>\n",
       "      <td>USD/kW</td>\n",
       "    </tr>\n",
       "    <tr>\n",
       "      <th>7</th>\n",
       "      <td>UZB</td>\n",
       "      <td>solar_pv_ppl</td>\n",
       "      <td>2050</td>\n",
       "      <td>404.742443</td>\n",
       "      <td>USD/kW</td>\n",
       "    </tr>\n",
       "    <tr>\n",
       "      <th>8</th>\n",
       "      <td>UZB</td>\n",
       "      <td>solar_pv_ppl</td>\n",
       "      <td>2060</td>\n",
       "      <td>395.003693</td>\n",
       "      <td>USD/kW</td>\n",
       "    </tr>\n",
       "    <tr>\n",
       "      <th>9</th>\n",
       "      <td>UZB</td>\n",
       "      <td>solar_pv_ppl</td>\n",
       "      <td>2015</td>\n",
       "      <td>1349.466080</td>\n",
       "      <td>USD/kW</td>\n",
       "    </tr>\n",
       "    <tr>\n",
       "      <th>10</th>\n",
       "      <td>UZB</td>\n",
       "      <td>solar_pv_ppl</td>\n",
       "      <td>2025</td>\n",
       "      <td>613.541250</td>\n",
       "      <td>USD/kW</td>\n",
       "    </tr>\n",
       "    <tr>\n",
       "      <th>11</th>\n",
       "      <td>UZB</td>\n",
       "      <td>solar_pv_ppl</td>\n",
       "      <td>2035</td>\n",
       "      <td>491.027761</td>\n",
       "      <td>USD/kW</td>\n",
       "    </tr>\n",
       "    <tr>\n",
       "      <th>12</th>\n",
       "      <td>UZB</td>\n",
       "      <td>solar_pv_ppl</td>\n",
       "      <td>2045</td>\n",
       "      <td>425.388580</td>\n",
       "      <td>USD/kW</td>\n",
       "    </tr>\n",
       "    <tr>\n",
       "      <th>13</th>\n",
       "      <td>UZB</td>\n",
       "      <td>solar_pv_ppl</td>\n",
       "      <td>2055</td>\n",
       "      <td>399.873068</td>\n",
       "      <td>USD/kW</td>\n",
       "    </tr>\n",
       "  </tbody>\n",
       "</table>\n",
       "</div>"
      ],
      "text/plain": [
       "   node_loc    technology  year_vtg        value    unit\n",
       "0       UZB  solar_pv_ppl      1995  2459.358864  USD/kW\n",
       "1       UZB  solar_pv_ppl      2000  2459.358864  USD/kW\n",
       "2       UZB  solar_pv_ppl      2005  2107.465455  USD/kW\n",
       "3       UZB  solar_pv_ppl      2010  1547.162727  USD/kW\n",
       "4       UZB  solar_pv_ppl      2020  1151.769432  USD/kW\n",
       "5       UZB  solar_pv_ppl      2030   536.020807  USD/kW\n",
       "6       UZB  solar_pv_ppl      2040   446.034750  USD/kW\n",
       "7       UZB  solar_pv_ppl      2050   404.742443  USD/kW\n",
       "8       UZB  solar_pv_ppl      2060   395.003693  USD/kW\n",
       "9       UZB  solar_pv_ppl      2015  1349.466080  USD/kW\n",
       "10      UZB  solar_pv_ppl      2025   613.541250  USD/kW\n",
       "11      UZB  solar_pv_ppl      2035   491.027761  USD/kW\n",
       "12      UZB  solar_pv_ppl      2045   425.388580  USD/kW\n",
       "13      UZB  solar_pv_ppl      2055   399.873068  USD/kW"
      ]
     },
     "execution_count": 10,
     "metadata": {},
     "output_type": "execute_result"
    }
   ],
   "source": [
    "# Lets reduce the cost for years greater than 2020 by 40% (we multiply the cost by 0.6)\n",
    "table.loc[table[\"year_vtg\"] > 2020, 'value'] *= 0.6\n",
    "# see the new cost data\n",
    "table"
   ]
  },
  {
   "cell_type": "markdown",
   "metadata": {},
   "source": [
    "### Notice (3):\n",
    "We haven't changed anything in the scenario yet. Because we need to insert the modified data back to the scenario. We use `scen.add_par` for doing this. We need to pass a pandas.DataFrame when adding data to a parameter (see below). The new data will overwrite the existing values in the scenario."
   ]
  },
  {
   "cell_type": "code",
   "execution_count": 11,
   "metadata": {},
   "outputs": [],
   "source": [
    "# Adding data to the scenario\n",
    "scen.add_par('inv_cost', table)"
   ]
  },
  {
   "cell_type": "markdown",
   "metadata": {},
   "source": [
    "### Notice (4): Committing the changes (= saving)\n",
    "When we have done our edits and have added new data to the scenario, we need to confirm this by committing the changes. If you are not happy with the changes you have done, e.g., you realized you have done some mistakes, you can still revert the changes before committing. So, at this stage, if you are not happy with the changes, you can do `scen.discard_changes()`. We assume that we are happy with the change of the investment cost of solar PV and we continue by committing the changes, which means saving the new data in the scenario."
   ]
  },
  {
   "cell_type": "code",
   "execution_count": 12,
   "metadata": {},
   "outputs": [],
   "source": [
    "# Committing the changes (saving and checking in the scenario)\n",
    "# You can add a commit message as you wish:\n",
    "scen.commit('cost of PV was changed')"
   ]
  },
  {
   "cell_type": "markdown",
   "metadata": {
    "collapsed": true
   },
   "source": [
    "### 2.2. Solving the scenario\n",
    "After committing the changes, we are ready to solve the scenario. Solving the scenario means sending the input data from your database to GAMS formulation in the form of GDX files, solving the mathematical formulation, and retrieving the output results (MESSAGEix variables) back to your database. If solving the scenario succeeds without an error, we will be able to look into the results. Otherwise, you need to find out why the scenario has been insolvable.\n",
    "\n",
    "#### Tip (1): Solver options\n",
    "Large MESSAGEix models solve more quickly in \"Barrier\" method when using CPLEX as the solver. You can pass this option through `solve_options` arguments as below."
   ]
  },
  {
   "cell_type": "code",
   "execution_count": 13,
   "metadata": {},
   "outputs": [],
   "source": [
    "# Solving the scenario\n",
    "scen.solve(solve_options={'lpmethod': '4'})"
   ]
  },
  {
   "cell_type": "markdown",
   "metadata": {},
   "source": [
    "### 2.3. Comparing results of two scenarios\n",
    "In this part, we can visualize some output results both on the sub-annual and yearly basis. For example, we can check the activity or capacity of the technology, for which we changed some input data."
   ]
  },
  {
   "cell_type": "code",
   "execution_count": 14,
   "metadata": {},
   "outputs": [
    {
     "data": {
      "text/html": [
       "<div>\n",
       "<style scoped>\n",
       "    .dataframe tbody tr th:only-of-type {\n",
       "        vertical-align: middle;\n",
       "    }\n",
       "\n",
       "    .dataframe tbody tr th {\n",
       "        vertical-align: top;\n",
       "    }\n",
       "\n",
       "    .dataframe thead th {\n",
       "        text-align: right;\n",
       "    }\n",
       "</style>\n",
       "<table border=\"1\" class=\"dataframe\">\n",
       "  <thead>\n",
       "    <tr style=\"text-align: right;\">\n",
       "      <th></th>\n",
       "      <th>Baseline Scenario</th>\n",
       "      <th>Test Scenario</th>\n",
       "    </tr>\n",
       "    <tr>\n",
       "      <th>year_act</th>\n",
       "      <th></th>\n",
       "      <th></th>\n",
       "    </tr>\n",
       "  </thead>\n",
       "  <tbody>\n",
       "    <tr>\n",
       "      <th>1995</th>\n",
       "      <td>0.000000</td>\n",
       "      <td>0.000000</td>\n",
       "    </tr>\n",
       "    <tr>\n",
       "      <th>2000</th>\n",
       "      <td>0.000000</td>\n",
       "      <td>0.000000</td>\n",
       "    </tr>\n",
       "    <tr>\n",
       "      <th>2005</th>\n",
       "      <td>0.000000</td>\n",
       "      <td>0.000000</td>\n",
       "    </tr>\n",
       "    <tr>\n",
       "      <th>2010</th>\n",
       "      <td>0.000000</td>\n",
       "      <td>0.000000</td>\n",
       "    </tr>\n",
       "    <tr>\n",
       "      <th>2015</th>\n",
       "      <td>0.000000</td>\n",
       "      <td>0.000000</td>\n",
       "    </tr>\n",
       "    <tr>\n",
       "      <th>2020</th>\n",
       "      <td>0.000485</td>\n",
       "      <td>0.000485</td>\n",
       "    </tr>\n",
       "    <tr>\n",
       "      <th>2025</th>\n",
       "      <td>0.000485</td>\n",
       "      <td>0.000485</td>\n",
       "    </tr>\n",
       "    <tr>\n",
       "      <th>2030</th>\n",
       "      <td>0.000485</td>\n",
       "      <td>0.081215</td>\n",
       "    </tr>\n",
       "    <tr>\n",
       "      <th>2035</th>\n",
       "      <td>0.000485</td>\n",
       "      <td>0.081215</td>\n",
       "    </tr>\n",
       "    <tr>\n",
       "      <th>2040</th>\n",
       "      <td>0.000485</td>\n",
       "      <td>0.081215</td>\n",
       "    </tr>\n",
       "    <tr>\n",
       "      <th>2045</th>\n",
       "      <td>0.000485</td>\n",
       "      <td>0.800202</td>\n",
       "    </tr>\n",
       "    <tr>\n",
       "      <th>2050</th>\n",
       "      <td>0.000485</td>\n",
       "      <td>1.668419</td>\n",
       "    </tr>\n",
       "    <tr>\n",
       "      <th>2055</th>\n",
       "      <td>0.000485</td>\n",
       "      <td>2.159227</td>\n",
       "    </tr>\n",
       "    <tr>\n",
       "      <th>2060</th>\n",
       "      <td>0.000485</td>\n",
       "      <td>2.168635</td>\n",
       "    </tr>\n",
       "  </tbody>\n",
       "</table>\n",
       "</div>"
      ],
      "text/plain": [
       "          Baseline Scenario  Test Scenario\n",
       "year_act                                  \n",
       "1995               0.000000       0.000000\n",
       "2000               0.000000       0.000000\n",
       "2005               0.000000       0.000000\n",
       "2010               0.000000       0.000000\n",
       "2015               0.000000       0.000000\n",
       "2020               0.000485       0.000485\n",
       "2025               0.000485       0.000485\n",
       "2030               0.000485       0.081215\n",
       "2035               0.000485       0.081215\n",
       "2040               0.000485       0.081215\n",
       "2045               0.000485       0.800202\n",
       "2050               0.000485       1.668419\n",
       "2055               0.000485       2.159227\n",
       "2060               0.000485       2.168635"
      ]
     },
     "execution_count": 14,
     "metadata": {},
     "output_type": "execute_result"
    }
   ],
   "source": [
    "# Comparing activity of solar PV plant between the two scenario\n",
    "tec = 'solar_pv_ppl'\n",
    "node = 'UZB'\n",
    "\n",
    "out = pd.DataFrame()\n",
    "out[\"Baseline Scenario\"] = base.var(\"ACT\", {\"node_loc\": node, \"technology\": tec}\n",
    "                                   ).groupby([\"year_act\"]).sum()[\"lvl\"]\n",
    "out[\"Test Scenario\"] = scen.var(\"ACT\", {\"node_loc\": node, \"technology\": tec}\n",
    "                               ).groupby([\"year_act\"]).sum()[\"lvl\"]\n",
    "out"
   ]
  },
  {
   "cell_type": "markdown",
   "metadata": {},
   "source": [
    "#### Tip(3): Results in Excel \n",
    "After running the cell below, you can find the underlying data of the figure as saved output in Excel in the path you provide."
   ]
  },
  {
   "cell_type": "code",
   "execution_count": 15,
   "metadata": {},
   "outputs": [
    {
     "data": {
      "image/png": "[encoded data removed]",
      "text/plain": [
       "<Figure size 288x216 with 1 Axes>"
      ]
     },
     "metadata": {
      "needs_background": "light"
     },
     "output_type": "display_data"
    }
   ],
   "source": [
    "# Yearly results for activity (electricity generation) of Baseline\n",
    "yearly_plot(base, path + \"//data/results\", region=[\"UZB\"], aggregate=None)"
   ]
  },
  {
   "cell_type": "code",
   "execution_count": 16,
   "metadata": {},
   "outputs": [
    {
     "data": {
      "image/png": "[encoded data removed]",
      "text/plain": [
       "<Figure size 576x648 with 6 Axes>"
      ]
     },
     "metadata": {
      "needs_background": "light"
     },
     "output_type": "display_data"
    }
   ],
   "source": [
    "# Yearly results for activity (electricity generation) after changes\n",
    "yearly_plot(scen, path + \"//data/results\")"
   ]
  },
  {
   "cell_type": "markdown",
   "metadata": {},
   "source": [
    "## 3. Modeling renewable energy targets as shares\n",
    "Different countries may specify targets for increasing the share of a certain technology in the system. For example, share of renewable energy in the electricity generation mix can be represented in the model to explore the implications of such a target, in terms of additional costs and emissions reduction benefits. In this section, we show how one can apply share constraints in the Central Asian energy-water model.\n",
    "\n",
    "There are at least two ways to represent a share constraint in `message_ix`:\n",
    "1. Using dedicated share constraints equations (see [documentation](https://iiasa-energy-program-message-ix.readthedocs-hosted.com/en/stable/model/MESSAGE/model_core.html#share-constraints-on-commodities) for explanation and [this example](https://github.com/iiasa/message_ix/blob/main/tutorial/westeros/westeros_share_constraint.ipynb) on how to add shares)\n",
    "2. Using user-defined relations (see [documentation](https://iiasa-energy-program-message-ix.readthedocs-hosted.com/en/stable/model/MESSAGE/model_core.html#section-of-generic-relations-linear-constraints)).\n",
    "\n",
    "In this tutorial, we follow the second approach, and we extend user-defined relations for sub-annual timeslices. "
   ]
  },
  {
   "cell_type": "code",
   "execution_count": 17,
   "metadata": {},
   "outputs": [
    {
     "name": "stderr",
     "output_type": "stream",
     "text": [
      "Existing index sets of 'map_tec_storage' ['node', 'technology', 'mode', 'storage_tec', 'mode', 'level', 'commodity', 'lvl_temporal'] do not match ['node', 'technology', 'mode', 'technology', 'mode', 'level', 'commodity', 'lvl_temporal']\n",
      "Existing index sets of 'STORAGE' ['node', 'technology', 'level', 'commodity', 'year', 'time'] do not match ('node', 'technology', 'mode', 'level', 'commodity', 'year', 'time')\n"
     ]
    }
   ],
   "source": [
    "# Cloning a scenario for adding shares\n",
    "scen2 = base.clone(scenario=\"renewable_policy_1\", keep_solution=False)\n",
    "scen2.check_out()"
   ]
  },
  {
   "cell_type": "markdown",
   "metadata": {},
   "source": [
    "### 3.1 Adding share of renewable electricity\n",
    "To add a policy target based on share of renewables in the electricity generaiton mix, we categorize power plants technologies in the model. The category `powerplant` includes all types of power plants, while `renewable_powerplant` includes renewables like wind, solar, hydro, biomass, etc. We also add a category `VRE_powerplant` to represent variable renewables like solar PV, wind, and concentrated solar power (CSP) without thermal storage.\n",
    "\n",
    "If you are interested to see technologies under each category, you can use `cat_tec` as follows."
   ]
  },
  {
   "cell_type": "code",
   "execution_count": 18,
   "metadata": {},
   "outputs": [
    {
     "data": {
      "text/plain": [
       "['bio_istig',\n",
       " 'bio_ppl',\n",
       " 'csp_sm1_ppl',\n",
       " 'csp_sm3_ppl',\n",
       " 'hydro_hc',\n",
       " 'hydro_lc',\n",
       " 'solar_pv_ppl',\n",
       " 'turbine',\n",
       " 'turbine_dam',\n",
       " 'wind_ppl']"
      ]
     },
     "execution_count": 18,
     "metadata": {},
     "output_type": "execute_result"
    }
   ],
   "source": [
    "# Lisitng technologies under each category\n",
    "cat = scen2.set(\"cat_tec\")\n",
    "\n",
    "# Technologies under \"renewable powerplant\"\n",
    "tec_share = sorted(list(set(cat.loc[cat[\"type_tec\"] == \"renewable_powerplant\"\n",
    "                                ][\"technology\"])))\n",
    "# Technologies under \"powerplant\"\n",
    "tec_total = sorted(list(set(cat.loc[cat[\"type_tec\"] == \"powerplant\"\n",
    "                                ][\"technology\"])))\n",
    "tec_share"
   ]
  },
  {
   "cell_type": "markdown",
   "metadata": {},
   "source": [
    "Share of renewables in total electricity generation can be specified per model region and year. For example, we add this share in Kazakhstan for different years, reaching 50% of total in 2050. We use the utility function `add_share_activity` for this purpose. "
   ]
  },
  {
   "cell_type": "code",
   "execution_count": 19,
   "metadata": {},
   "outputs": [],
   "source": [
    "# Adding renewable share for Kazakhstan\n",
    "relation=\"share_renewable\"\n",
    "regions = [\"KAZ\"]\n",
    "shares = {2025: 0.15, 2030: 0.21, 2035: 0.28, 2040: 0.34, 2045: 0.43, 2050: 0.50}\n",
    "\n",
    "# Calling function for adding the share\n",
    "add_share_activity(scen2,\n",
    "                   relation,            # A relation name\n",
    "                   tec_share,             # Technologies formig the share (nominator)\n",
    "                   tec_total,             # Technologies formig the total (denominator)\n",
    "                   shares,                # A dictionary of shares per year\n",
    "                   regions,               # Regions for applying the share\n",
    "                  )"
   ]
  },
  {
   "cell_type": "code",
   "execution_count": 20,
   "metadata": {},
   "outputs": [],
   "source": [
    "# Saving changes and solving the scenario\n",
    "scen2.commit(\"changes saved!\")\n",
    "scen2.solve(solve_options={'lpmethod': '4'})"
   ]
  },
  {
   "cell_type": "code",
   "execution_count": 21,
   "metadata": {},
   "outputs": [
    {
     "data": {
      "image/png": "[encoded data removed]",
      "text/plain": [
       "<Figure size 288x216 with 1 Axes>"
      ]
     },
     "metadata": {
      "needs_background": "light"
     },
     "output_type": "display_data"
    }
   ],
   "source": [
    "# Visualizing the results\n",
    "yearly_plot(scen2, path, \"activity\", [\"KAZ\"], aggregate=None)"
   ]
  },
  {
   "cell_type": "markdown",
   "metadata": {},
   "source": [
    "#### Renewable energy share for the region\n",
    "Now, we study a case by adding a renewable share of 50% by 2050 for all five countries in Central Asia."
   ]
  },
  {
   "cell_type": "code",
   "execution_count": 22,
   "metadata": {},
   "outputs": [
    {
     "name": "stderr",
     "output_type": "stream",
     "text": [
      "Existing index sets of 'map_tec_storage' ['node', 'technology', 'mode', 'storage_tec', 'mode', 'level', 'commodity', 'lvl_temporal'] do not match ['node', 'technology', 'mode', 'technology', 'mode', 'level', 'commodity', 'lvl_temporal']\n",
      "Existing index sets of 'STORAGE' ['node', 'technology', 'level', 'commodity', 'year', 'time'] do not match ('node', 'technology', 'mode', 'level', 'commodity', 'year', 'time')\n"
     ]
    }
   ],
   "source": [
    "# Cloning a scenario for adding renewable share for all five countries\n",
    "scen3 = base.clone(scenario=\"renewable_policy\", keep_solution=False)\n",
    "scen3.check_out()"
   ]
  },
  {
   "cell_type": "code",
   "execution_count": 23,
   "metadata": {},
   "outputs": [],
   "source": [
    "# Adding renewable share for all countries\n",
    "relation=\"share_renewable\"\n",
    "regions = [\"KAZ\", \"KGZ\", \"TJK\", \"TKM\", \"UZB\"]\n",
    "shares = {2025: 0.15, 2030: 0.21, 2035: 0.28, 2040: 0.34, 2045: 0.43, 2050: 0.50}\n",
    "\n",
    "# Calling function for adding the share\n",
    "add_share_activity(scen3,\n",
    "                   relation,            # A relation name\n",
    "                   tec_share,             # Technologies formig the share (nominator)\n",
    "                   tec_total,             # Technologies formig the total (denominator)\n",
    "                   shares,                # A dictionary of shares per year\n",
    "                   regions,               # Regions for applying the share\n",
    "                  )"
   ]
  },
  {
   "cell_type": "code",
   "execution_count": 24,
   "metadata": {},
   "outputs": [],
   "source": [
    "# Saving changes and solving the scenario\n",
    "scen3.commit(\"changes saved!\")\n",
    "scen3.solve(solve_options={'lpmethod': '4'})"
   ]
  },
  {
   "cell_type": "code",
   "execution_count": 25,
   "metadata": {},
   "outputs": [
    {
     "data": {
      "image/png": "[encoded data removed]",
      "text/plain": [
       "<Figure size 576x648 with 6 Axes>"
      ]
     },
     "metadata": {
      "needs_background": "light"
     },
     "output_type": "display_data"
    }
   ],
   "source": [
    "# Visualizing the results\n",
    "yearly_plot(scen3, path, \"activity\")"
   ]
  },
  {
   "cell_type": "markdown",
   "metadata": {},
   "source": [
    "## 4. Representation of emissions targets\n",
    "Emissions targets can be modeled straightforwardly in `message_ix` using the parameter `bound_emission`. The emissions bound can be added for a certain type of technologies, like powerrplants, or for all technologies. In this section, we add total carbon emissions (TCE) bound and investigate the impact on the electricity sector.\n",
    "\n",
    "For more information on adding emission bounds see [this example](https://github.com/iiasa/message_ix/blob/main/tutorial/westeros/westeros_emissions_bounds.ipynb), and for adding emission taxes see [this one](https://github.com/iiasa/message_ix/blob/main/tutorial/westeros/westeros_emissions_taxes.ipynb)."
   ]
  },
  {
   "cell_type": "markdown",
   "metadata": {},
   "source": [
    "### 4.1 Emissions reduction target\n",
    "Emissions targets are usually set as a % reduction relative to a certain year, e.g., 1990 or 2010. In this example, we add a total carbon emissions target in 2050, representing 40% reduction compared to 2020 as the reference year. We derive the reference carbon emissions from the Baseline scenario."
   ]
  },
  {
   "cell_type": "code",
   "execution_count": 26,
   "metadata": {},
   "outputs": [
    {
     "name": "stderr",
     "output_type": "stream",
     "text": [
      "Existing index sets of 'map_tec_storage' ['node', 'technology', 'mode', 'storage_tec', 'mode', 'level', 'commodity', 'lvl_temporal'] do not match ['node', 'technology', 'mode', 'technology', 'mode', 'level', 'commodity', 'lvl_temporal']\n",
      "Existing index sets of 'STORAGE' ['node', 'technology', 'level', 'commodity', 'year', 'time'] do not match ('node', 'technology', 'mode', 'level', 'commodity', 'year', 'time')\n"
     ]
    }
   ],
   "source": [
    "# Cloning a scenario for adding emissions targets\n",
    "scen4 = base.clone(scenario=\"emission_policy\", keep_solution=False)\n",
    "scen4.check_out()"
   ]
  },
  {
   "cell_type": "code",
   "execution_count": 27,
   "metadata": {},
   "outputs": [
    {
     "data": {
      "text/html": [
       "<div>\n",
       "<style scoped>\n",
       "    .dataframe tbody tr th:only-of-type {\n",
       "        vertical-align: middle;\n",
       "    }\n",
       "\n",
       "    .dataframe tbody tr th {\n",
       "        vertical-align: top;\n",
       "    }\n",
       "\n",
       "    .dataframe thead th {\n",
       "        text-align: right;\n",
       "    }\n",
       "</style>\n",
       "<table border=\"1\" class=\"dataframe\">\n",
       "  <thead>\n",
       "    <tr style=\"text-align: right;\">\n",
       "      <th></th>\n",
       "      <th>node</th>\n",
       "      <th>emission</th>\n",
       "      <th>type_tec</th>\n",
       "      <th>year</th>\n",
       "      <th>lvl</th>\n",
       "      <th>mrg</th>\n",
       "    </tr>\n",
       "  </thead>\n",
       "  <tbody>\n",
       "    <tr>\n",
       "      <th>0</th>\n",
       "      <td>CAS</td>\n",
       "      <td>TCE</td>\n",
       "      <td>all</td>\n",
       "      <td>2020</td>\n",
       "      <td>100.883118</td>\n",
       "      <td>0.0</td>\n",
       "    </tr>\n",
       "    <tr>\n",
       "      <th>1</th>\n",
       "      <td>CAS</td>\n",
       "      <td>TCE</td>\n",
       "      <td>all</td>\n",
       "      <td>2025</td>\n",
       "      <td>76.611255</td>\n",
       "      <td>0.0</td>\n",
       "    </tr>\n",
       "    <tr>\n",
       "      <th>2</th>\n",
       "      <td>CAS</td>\n",
       "      <td>TCE</td>\n",
       "      <td>all</td>\n",
       "      <td>2030</td>\n",
       "      <td>79.763679</td>\n",
       "      <td>0.0</td>\n",
       "    </tr>\n",
       "    <tr>\n",
       "      <th>3</th>\n",
       "      <td>CAS</td>\n",
       "      <td>TCE</td>\n",
       "      <td>all</td>\n",
       "      <td>2035</td>\n",
       "      <td>76.409040</td>\n",
       "      <td>0.0</td>\n",
       "    </tr>\n",
       "    <tr>\n",
       "      <th>4</th>\n",
       "      <td>CAS</td>\n",
       "      <td>TCE</td>\n",
       "      <td>all</td>\n",
       "      <td>2040</td>\n",
       "      <td>75.349087</td>\n",
       "      <td>0.0</td>\n",
       "    </tr>\n",
       "    <tr>\n",
       "      <th>5</th>\n",
       "      <td>CAS</td>\n",
       "      <td>TCE</td>\n",
       "      <td>all</td>\n",
       "      <td>2045</td>\n",
       "      <td>79.283657</td>\n",
       "      <td>0.0</td>\n",
       "    </tr>\n",
       "    <tr>\n",
       "      <th>6</th>\n",
       "      <td>CAS</td>\n",
       "      <td>TCE</td>\n",
       "      <td>all</td>\n",
       "      <td>2050</td>\n",
       "      <td>77.856555</td>\n",
       "      <td>0.0</td>\n",
       "    </tr>\n",
       "    <tr>\n",
       "      <th>7</th>\n",
       "      <td>CAS</td>\n",
       "      <td>TCE</td>\n",
       "      <td>all</td>\n",
       "      <td>2055</td>\n",
       "      <td>78.069895</td>\n",
       "      <td>0.0</td>\n",
       "    </tr>\n",
       "    <tr>\n",
       "      <th>8</th>\n",
       "      <td>CAS</td>\n",
       "      <td>TCE</td>\n",
       "      <td>all</td>\n",
       "      <td>2060</td>\n",
       "      <td>71.581969</td>\n",
       "      <td>0.0</td>\n",
       "    </tr>\n",
       "  </tbody>\n",
       "</table>\n",
       "</div>"
      ],
      "text/plain": [
       "  node emission type_tec  year         lvl  mrg\n",
       "0  CAS      TCE      all  2020  100.883118  0.0\n",
       "1  CAS      TCE      all  2025   76.611255  0.0\n",
       "2  CAS      TCE      all  2030   79.763679  0.0\n",
       "3  CAS      TCE      all  2035   76.409040  0.0\n",
       "4  CAS      TCE      all  2040   75.349087  0.0\n",
       "5  CAS      TCE      all  2045   79.283657  0.0\n",
       "6  CAS      TCE      all  2050   77.856555  0.0\n",
       "7  CAS      TCE      all  2055   78.069895  0.0\n",
       "8  CAS      TCE      all  2060   71.581969  0.0"
      ]
     },
     "execution_count": 27,
     "metadata": {},
     "output_type": "execute_result"
    }
   ],
   "source": [
    "# Retrieving total carbon emissions (TCE) of Central Asia (CAS) from Baseline\n",
    "node = [\"CAS\"]       # Central Asia \n",
    "tce = base.var(\"EMISS\", {\"node\": node, \"emission\": \"TCE\", \"type_tec\": \"all\"})\n",
    "tce"
   ]
  },
  {
   "cell_type": "code",
   "execution_count": 28,
   "metadata": {},
   "outputs": [],
   "source": [
    "# Using TCE emissions of 2020 as the reference for 40% reduction by 2050\n",
    "ref = float(tce.loc[tce[\"year\"] == 2020][\"lvl\"])\n",
    "target = ref * (1 - 0.4)"
   ]
  },
  {
   "cell_type": "markdown",
   "metadata": {},
   "source": [
    "### 4.2 Adding new carbon emissions target\n",
    "It should be noted that the unit of carbon emissions is in MtC-eq. These emissions include those from fossil fuel upstream supply chain, refineries, and the power sector. Land use emissions and emissions form the industry and heating/cooling are not included here."
   ]
  },
  {
   "cell_type": "code",
   "execution_count": 29,
   "metadata": {},
   "outputs": [],
   "source": [
    "# Adding total carbon emissions (TCE) target for Central Asia in 2050\n",
    "mp.add_unit(\"MtC\")\n",
    "scen4.add_par(\"bound_emission\", [\"CAS\", \"TCE\", \"all\", 2050], target, \"MtC\")"
   ]
  },
  {
   "cell_type": "code",
   "execution_count": 30,
   "metadata": {},
   "outputs": [],
   "source": [
    "# Saving changes and solving the scenario\n",
    "scen4.commit(\"changes saved!\")\n",
    "scen4.solve(solve_options={'lpmethod': '4'})"
   ]
  },
  {
   "cell_type": "code",
   "execution_count": 31,
   "metadata": {},
   "outputs": [
    {
     "data": {
      "image/png": "[encoded data removed]",
      "text/plain": [
       "<Figure size 576x648 with 6 Axes>"
      ]
     },
     "metadata": {
      "needs_background": "light"
     },
     "output_type": "display_data"
    }
   ],
   "source": [
    "# Visualizing the results\n",
    "yearly_plot(scen4, path, \"activity\")"
   ]
  },
  {
   "cell_type": "code",
   "execution_count": null,
   "metadata": {},
   "outputs": [],
   "source": [
    "# Comparing three scenarios on total system costs and GHGs\n",
    "compare_three_scenario(base, scen3, scen4,\n",
    "                           scenario_names=[\"Baseline\", \"High Renewable\", \"Low emission\"],\n",
    "                           )"
   ]
  },
  {
   "cell_type": "code",
   "execution_count": null,
   "metadata": {},
   "outputs": [],
   "source": [
    "# Close the database at the end of your work\n",
    "mp.close_db()"
   ]
  }
 ],
 "metadata": {
  "kernelspec": {
   "display_name": "Python 3",
   "language": "python",
   "name": "python3"
  },
  "language_info": {
   "codemirror_mode": {
    "name": "ipython",
    "version": 3
   },
   "file_extension": ".py",
   "mimetype": "text/x-python",
   "name": "python",
   "nbconvert_exporter": "python",
   "pygments_lexer": "ipython3",
   "version": "3.7.6"
  }
 },
 "nbformat": 4,
 "nbformat_minor": 2
}
